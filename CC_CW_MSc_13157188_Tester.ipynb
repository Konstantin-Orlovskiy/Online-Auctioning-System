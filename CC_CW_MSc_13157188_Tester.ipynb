{
 "cells": [
  {
   "cell_type": "markdown",
   "metadata": {},
   "source": [
    "# This pattern below is based on the one provided in Lab 4."
   ]
  },
  {
   "cell_type": "markdown",
   "metadata": {},
   "source": [
    "## TC1 \n",
    "## Olga, Nick and Mary register in the application and are ready to access the API."
   ]
  },
  {
   "cell_type": "code",
   "execution_count": 1,
   "metadata": {},
   "outputs": [],
   "source": [
    "# Server IP is a variable:\n",
    "server_ip = \"http://193.61.36.109:8000\""
   ]
  },
  {
   "cell_type": "code",
   "execution_count": 24,
   "metadata": {
    "scrolled": true
   },
   "outputs": [
    {
     "name": "stdout",
     "output_type": "stream",
     "text": [
      "\n",
      "Olga: \n",
      " {'access_token': '30ugULObtYNa0xwLqoFfCom5IViS0N', 'expires_in': 36000, 'token_type': 'Bearer', 'scope': 'read write', 'refresh_token': 'iI3TEEViTDIEr9ffpu2t63sdMU5xG7'}\n",
      "\n",
      "Nick: \n",
      " {'access_token': 'TXyXGJiC5wezusCMpLmIEFQPwPaZkO', 'expires_in': 36000, 'token_type': 'Bearer', 'scope': 'read write', 'refresh_token': 'dOEsIUAvOMZIKmwFeRxLcjhUMgoH1q'}\n",
      "\n",
      "Mary: \n",
      " {'access_token': 'f1IME1m5ugEn7hTlddgrIihgf4CyUF', 'expires_in': 36000, 'token_type': 'Bearer', 'scope': 'read write', 'refresh_token': 'x1ozahLLT1G5bRN4nMBUNJCkw7xkBx'}\n"
     ]
    }
   ],
   "source": [
    "# Register new users Olga, Nick, Mary using the API.\n",
    "\n",
    "\n",
    "url = server_ip+\"/authentication/register/\" # end point for registration\n",
    "\n",
    "olga = {\n",
    "            'username': 'olga',\n",
    "            'password':'1234'\n",
    "        }\n",
    "olga_response = requests.post(url, data = olga)\n",
    "olga_response = olga_response.json()  # Changing the data format to json as interpretable by python\n",
    "print('\\nOlga: \\n', olga_response)\n",
    "\n",
    "nick = {\n",
    "            'username': 'nick',\n",
    "            'password':'1234'\n",
    "        }\n",
    "nick_response = requests.post(url, data = nick)\n",
    "nick_response = nick_response.json()  # Changing the data format to json as interpretable by python\n",
    "print('\\nNick: \\n', nick_response)\n",
    "\n",
    "\n",
    "mary = {\n",
    "            'username': 'mary',\n",
    "            'password':'1234'\n",
    "        }\n",
    "mary_response = requests.post(url, data = mary)\n",
    "mary_response = mary_response.json()  # Changing the data format to json as interpretable by python\n",
    "print('\\nMary: \\n', mary_response)"
   ]
  },
  {
   "cell_type": "markdown",
   "metadata": {},
   "source": [
    "## TC2\n",
    "## Olga, Nick and Mary will use the oAuth v2 authorisation service to get their tokens."
   ]
  },
  {
   "cell_type": "code",
   "execution_count": 26,
   "metadata": {},
   "outputs": [
    {
     "name": "stdout",
     "output_type": "stream",
     "text": [
      "\n",
      "Olga token:  yapHolrgjGs84S0XAZ1HG4vHBPlbkZ\n",
      "\n",
      "Nick token:  Gm6uttvtEMFYahNVKkMNBjp5AdcDOC\n",
      "\n",
      "Mary token:  D9rsKg03oJsPvJt2SxDD1bcs3sbwKh\n"
     ]
    }
   ],
   "source": [
    "url = server_ip+\"/authentication/token/\"\n",
    "\n",
    "\n",
    "olga_response = requests.post(url, data = olga)\n",
    "olga_response = olga_response.json()\n",
    "olga_token = olga_response['access_token']  # The user's token to be used\n",
    "print('\\nOlga token: ', olga_token)\n",
    "\n",
    "nick_response = requests.post(url, data = nick)\n",
    "nick_response = nick_response.json()\n",
    "nick_token = nick_response['access_token']  # The user's token to be used\n",
    "print('\\nNick token: ', nick_token)\n",
    "\n",
    "mary_response = requests.post(url, data = mary)\n",
    "mary_response = mary_response.json()\n",
    "mary_token = mary_response['access_token']  # The user's token to be used\n",
    "print('\\nMary token: ', mary_token)"
   ]
  },
  {
   "cell_type": "markdown",
   "metadata": {},
   "source": [
    "## TC 3\n",
    "## Olga makes a call to the API (any endpoint) without using a token. This call should be unsuccessful as the user is unauthorised."
   ]
  },
  {
   "cell_type": "code",
   "execution_count": 5,
   "metadata": {},
   "outputs": [
    {
     "name": "stdout",
     "output_type": "stream",
     "text": [
      "{'detail': 'Authentication credentials were not provided.'}\n"
     ]
    }
   ],
   "source": [
    "url = server_ip+\"/v1/items/\"  # End point for items.\n",
    "\n",
    "record = {\n",
    "    'title': 'Toyota',\n",
    "    'condition': 'new',\n",
    "    'description': 'Corolla 2004',\n",
    "    'end_date': '2020-10-31T14:33Z',\n",
    "    'user': '8'  # I have not managed to imply use of primary key of current user, so admin id used.\n",
    "}\n",
    "\n",
    "# Attempt to post the data and print the response\n",
    "olga_response = requests.post(url,\n",
    "                              data = record)\n",
    "\n",
    "print(olga_response.json())  # Print the response which is converted to json format."
   ]
  },
  {
   "cell_type": "markdown",
   "metadata": {},
   "source": [
    "## TC 4\n",
    "## Olga adds an item for auction with an expiration time using her token."
   ]
  },
  {
   "cell_type": "code",
   "execution_count": 14,
   "metadata": {},
   "outputs": [
    {
     "name": "stdout",
     "output_type": "stream",
     "text": [
      "{'title': 'Jeep', 'condition': 'new', 'description': 'Wrangler 1995', 'end_date': '2020-08-28T13:00:00Z', 'user': 8}\n"
     ]
    }
   ],
   "source": [
    "url = server_ip+\"/v1/items/\"\n",
    "\n",
    "# Need to pass the token as a header in POST call as follows:\n",
    "\n",
    "headers = {'Authorization': 'Bearer '+str(olga_token)}\n",
    "\n",
    "record = {\n",
    "    'title': 'Jeep',\n",
    "    'condition': 'new',\n",
    "    'description': 'Wrangler 1995',\n",
    "    'end_date': '2020-08-28T13:00Z',\n",
    "    'user': '8'  # I have not managed to imply use of primary key of current user, so admin id used.\n",
    "}\n",
    "\n",
    "# Attempt to post the data and print the response\n",
    "olga_response = requests.post(url,\n",
    "                              headers=headers,\n",
    "                              data = record)\n",
    "print(olga_response.json())"
   ]
  },
  {
   "cell_type": "markdown",
   "metadata": {},
   "source": [
    "## TC 5\n",
    "## Nick adds an item for auction with an expiration time using his token."
   ]
  },
  {
   "cell_type": "code",
   "execution_count": 15,
   "metadata": {},
   "outputs": [
    {
     "name": "stdout",
     "output_type": "stream",
     "text": [
      "{'title': 'Sofa bed', 'condition': 'used', 'description': 'red, fabric', 'end_date': '2020-12-24T18:00:00Z', 'user': 8}\n"
     ]
    }
   ],
   "source": [
    "url = server_ip+\"/v1/items/\"\n",
    "\n",
    "# Need to pass the token as a header in POST call as follows:\n",
    "\n",
    "headers = {'Authorization': 'Bearer '+str(nick_token)}\n",
    "\n",
    "record = {\n",
    "    'title': 'Sofa bed',\n",
    "    'condition': 'used',\n",
    "    'description': 'red, fabric',\n",
    "    'end_date': '2020-12-24T18:00Z',\n",
    "    'user': '8'\n",
    "}\n",
    "\n",
    "# Attempt to post the data and print the response\n",
    "nick_response = requests.post(url,\n",
    "                              headers=headers,\n",
    "                              data = record)\n",
    "print(nick_response.json())"
   ]
  },
  {
   "cell_type": "markdown",
   "metadata": {},
   "source": [
    "## TC 6\n",
    "## Mary adds an item for auction with an expiration time using her token."
   ]
  },
  {
   "cell_type": "code",
   "execution_count": 16,
   "metadata": {},
   "outputs": [
    {
     "name": "stdout",
     "output_type": "stream",
     "text": [
      "{'title': 'iPhone 4s', 'condition': 'used', 'description': 'white, scratched screen', 'end_date': '2020-09-22T04:00:00Z', 'user': 8}\n"
     ]
    }
   ],
   "source": [
    "url = server_ip+\"/v1/items/\"\n",
    "\n",
    "# Need to pass the token as a header in POST call as follows:\n",
    "\n",
    "headers = {'Authorization': 'Bearer '+str(nick_token)}\n",
    "\n",
    "record = {\n",
    "    'title': 'iPhone 4s',\n",
    "    'condition': 'used',\n",
    "    'description': 'white, scratched screen',\n",
    "    'end_date': '2020-09-22T04:00Z',\n",
    "    'user': '8'\n",
    "}\n",
    "\n",
    "# Attempt to post the data and print the response\n",
    "mary_response = requests.post(url,\n",
    "                              headers=headers,\n",
    "                              data = record)\n",
    "print(mary_response.json())"
   ]
  },
  {
   "cell_type": "markdown",
   "metadata": {},
   "source": [
    "## TC 7\n",
    "## Nick and Olga browse all the available items, there should be three items available."
   ]
  },
  {
   "cell_type": "code",
   "execution_count": 17,
   "metadata": {},
   "outputs": [
    {
     "name": "stdout",
     "output_type": "stream",
     "text": [
      "\n",
      " Nick can see these items:\n",
      " [{'title': 'Jeep', 'condition': 'new', 'description': 'Wrangler 1995', 'end_date': '2020-08-28T13:00:00Z', 'user': 8}, {'title': 'Jeep', 'condition': 'new', 'description': 'Wrangler 1995', 'end_date': '2020-08-28T13:00:00Z', 'user': 8}, {'title': 'Sofa bed', 'condition': 'used', 'description': 'red, fabric', 'end_date': '2020-12-24T18:00:00Z', 'user': 8}, {'title': 'iPhone 4s', 'condition': 'used', 'description': 'white, scratched screen', 'end_date': '2020-09-22T04:00:00Z', 'user': 8}]\n"
     ]
    }
   ],
   "source": [
    "url = server_ip+\"/v1/items\"\n",
    "\n",
    "nick_headers = {'Authorization': 'Bearer '+str(nick_token)}\n",
    "nick_response = requests.get(url,headers=nick_headers)\n",
    "print('\\n Nick can see these items:\\n',nick_response.json())"
   ]
  },
  {
   "cell_type": "code",
   "execution_count": 18,
   "metadata": {},
   "outputs": [
    {
     "name": "stdout",
     "output_type": "stream",
     "text": [
      "\n",
      " Olga can see these items:\n",
      " [{'title': 'Jeep', 'condition': 'new', 'description': 'Wrangler 1995', 'end_date': '2020-08-28T13:00:00Z', 'user': 8}, {'title': 'Jeep', 'condition': 'new', 'description': 'Wrangler 1995', 'end_date': '2020-08-28T13:00:00Z', 'user': 8}, {'title': 'Sofa bed', 'condition': 'used', 'description': 'red, fabric', 'end_date': '2020-12-24T18:00:00Z', 'user': 8}, {'title': 'iPhone 4s', 'condition': 'used', 'description': 'white, scratched screen', 'end_date': '2020-09-22T04:00:00Z', 'user': 8}]\n"
     ]
    }
   ],
   "source": [
    "url = server_ip+\"/v1/items\"\n",
    "\n",
    "olga_headers = {'Authorization': 'Bearer '+str(olga_token)}\n",
    "olga_response = requests.get(url,headers=olga_headers)\n",
    "print('\\n Olga can see these items:\\n',olga_response.json())"
   ]
  },
  {
   "cell_type": "markdown",
   "metadata": {},
   "source": [
    "## TC 8\n",
    "## Nick and Olga get the details of Mary’s item."
   ]
  },
  {
   "cell_type": "code",
   "execution_count": 20,
   "metadata": {},
   "outputs": [
    {
     "name": "stdout",
     "output_type": "stream",
     "text": [
      "\n",
      "Nick can see the items: \n",
      " [{'title': 'Jeep', 'condition': 'new', 'description': 'Wrangler 1995', 'end_date': '2020-08-28T13:00:00Z', 'user': 8}, {'title': 'Jeep', 'condition': 'new', 'description': 'Wrangler 1995', 'end_date': '2020-08-28T13:00:00Z', 'user': 8}, {'title': 'Sofa bed', 'condition': 'used', 'description': 'red, fabric', 'end_date': '2020-12-24T18:00:00Z', 'user': 8}, {'title': 'iPhone 4s', 'condition': 'used', 'description': 'white, scratched screen', 'end_date': '2020-09-22T04:00:00Z', 'user': 8}]\n"
     ]
    }
   ],
   "source": [
    "url = server_ip+\"/v1/items\"\n",
    "\n",
    "user_to_filter = 8  # Specify user to filter.\n",
    "# I have not managed to imply use of primary key of current user, so admin id used.\n",
    "\n",
    "nick_headers = {'Authorization': 'Bearer '+str(nick_token)}\n",
    "nick_response = requests.get(url,headers=nick_headers).json()\n",
    "items_filtered = [itm for itm in nick_response if itm['user'] is user_to_filter]\n",
    "print('\\nNick can see the items: \\n', items_filtered)"
   ]
  },
  {
   "cell_type": "code",
   "execution_count": 21,
   "metadata": {},
   "outputs": [
    {
     "name": "stdout",
     "output_type": "stream",
     "text": [
      "\n",
      "Olga can see the items: \n",
      " [{'title': 'Jeep', 'condition': 'new', 'description': 'Wrangler 1995', 'end_date': '2020-08-28T13:00:00Z', 'user': 8}, {'title': 'Jeep', 'condition': 'new', 'description': 'Wrangler 1995', 'end_date': '2020-08-28T13:00:00Z', 'user': 8}, {'title': 'Sofa bed', 'condition': 'used', 'description': 'red, fabric', 'end_date': '2020-12-24T18:00:00Z', 'user': 8}, {'title': 'iPhone 4s', 'condition': 'used', 'description': 'white, scratched screen', 'end_date': '2020-09-22T04:00:00Z', 'user': 8}]\n"
     ]
    }
   ],
   "source": [
    "url = server_ip+\"/v1/items\"\n",
    "\n",
    "user_to_filter = 8  # Specify user to filter.\n",
    "# I have not managed to imply use of primary key of current user, so admin id used.\n",
    "\n",
    "olga_headers = {'Authorization': 'Bearer '+str(olga_token)}\n",
    "olga_response = requests.get(url,headers=olga_headers).json()\n",
    "items_filtered = [itm for itm in olga_response if itm['user'] is user_to_filter]\n",
    "print('\\nOlga can see the items: \\n', items_filtered)"
   ]
  },
  {
   "cell_type": "markdown",
   "metadata": {},
   "source": [
    "## TC 9\n",
    "## Mary bids for her own item. This call should be unsuccessful, an owner cannot bid for own items."
   ]
  },
  {
   "cell_type": "code",
   "execution_count": 27,
   "metadata": {},
   "outputs": [
    {
     "name": "stdout",
     "output_type": "stream",
     "text": [
      "{'auction': '8', 'bidding_price': 99.0, 'timestamp': '2020-04-26T16:47:16.519183Z'}\n"
     ]
    }
   ],
   "source": [
    "url = server_ip+\"/v1/bids/\"  # URL to access bids\n",
    "auction_id = 8  #  Auction id to make bid.\n",
    "bid_price = 99  # Bidding price to be passed to application\n",
    "\n",
    "# Need to pass the token as a header in POST call as follows:\n",
    "\n",
    "headers = {'Authorization': 'Bearer '+str(mary_token)}\n",
    "\n",
    "record = {\n",
    "    'auction': auction_id,\n",
    "    'bidding_price': bid_price\n",
    "}\n",
    "\n",
    "# Attempt to post the data and print the response\n",
    "mary_response = requests.post(url,\n",
    "                              headers=headers,\n",
    "                              data = record)\n",
    "print(mary_response.json())"
   ]
  },
  {
   "cell_type": "markdown",
   "metadata": {},
   "source": [
    "## TC 10\n",
    "## Nick and Olga bid for Mary’s item in a round robin fashion (one after the other)."
   ]
  },
  {
   "cell_type": "code",
   "execution_count": 105,
   "metadata": {},
   "outputs": [],
   "source": [
    "url = server_ip+\"/v1/bids/\"  # URL to access bids\n",
    "auction_id = 8  #  Auction id to make bid.\n",
    "current_bid = 15  # Current bidding price for the item, to be extracted from database."
   ]
  },
  {
   "cell_type": "code",
   "execution_count": 108,
   "metadata": {},
   "outputs": [
    {
     "name": "stdout",
     "output_type": "stream",
     "text": [
      "{'auction': '8', 'bidding_price': 18.0, 'timestamp': '2020-04-26T17:04:23.368822Z'}\n"
     ]
    }
   ],
   "source": [
    "# Nick's bid:\n",
    "nick_headers = {'Authorization': 'Bearer '+str(nick_token)}\n",
    "new_bid_price = current_bid + 1\n",
    "nick_record = {\n",
    "    'auction': auction_id,\n",
    "    'bidding_price': new_bid_price\n",
    "}\n",
    "nick_response = requests.post(url,\n",
    "                              headers=nick_headers,\n",
    "                              data = nick_record)\n",
    "current_bid = new_bid_price\n",
    "print(nick_response.json())"
   ]
  },
  {
   "cell_type": "code",
   "execution_count": 109,
   "metadata": {},
   "outputs": [
    {
     "name": "stdout",
     "output_type": "stream",
     "text": [
      "{'auction': '8', 'bidding_price': 19.0, 'timestamp': '2020-04-26T17:04:24.114410Z'}\n"
     ]
    }
   ],
   "source": [
    "# Olga's bid:\n",
    "olga_headers = {'Authorization': 'Bearer '+str(olga_token)}\n",
    "new_bid_price = current_bid + 1\n",
    "olga_record = {\n",
    "    'auction': auction_id,\n",
    "    'bidding_price': new_bid_price\n",
    "}\n",
    "olga_response = requests.post(url,\n",
    "                              headers=olga_headers,\n",
    "                              data = olga_record)\n",
    "current_bid = new_bid_price\n",
    "print(olga_response.json())"
   ]
  },
  {
   "cell_type": "markdown",
   "metadata": {},
   "source": [
    "## TC 11\n",
    "## Nick or Olga wins the item after the end of the auction."
   ]
  },
  {
   "cell_type": "code",
   "execution_count": null,
   "metadata": {},
   "outputs": [],
   "source": [
    "# Code to be written\n",
    "\n",
    "\n"
   ]
  },
  {
   "cell_type": "markdown",
   "metadata": {},
   "source": [
    "## TC 12\n",
    "## Olga browses all the items sold."
   ]
  },
  {
   "cell_type": "code",
   "execution_count": 131,
   "metadata": {},
   "outputs": [
    {
     "name": "stdout",
     "output_type": "stream",
     "text": [
      "\n",
      "Olga can see the items sold: \n",
      " [{'item': '1', 'auction_status': 'completed', 'time_left': '02:46:40'}]\n"
     ]
    }
   ],
   "source": [
    "# Code to be written\n",
    "        \n",
    "url = server_ip+\"/v1/auctions/\"  # URL to access the auctions data.\n",
    "\n",
    "status_to_filter = [\"completed\"]  # Specify the status of auctions need to browse.\n",
    "\n",
    "olga_headers = {'Authorization': 'Bearer '+str(olga_token)}\n",
    "olga_response = requests.get(url,headers=olga_headers).json()\n",
    "auctions_filtered = [itm for itm in olga_response if itm['auction_status'] in status_to_filter]\n",
    "print('\\nOlga can see the items sold: \\n', auctions_filtered)"
   ]
  },
  {
   "cell_type": "markdown",
   "metadata": {},
   "source": [
    "## TC 13\n",
    "## Mary queries for a list of bids as historical records of bidding actions of her sold item."
   ]
  },
  {
   "cell_type": "code",
   "execution_count": 140,
   "metadata": {},
   "outputs": [
    {
     "name": "stdout",
     "output_type": "stream",
     "text": [
      "\n",
      "Mary can see the items: \n",
      " [{'item': '1', 'auction_status': 'completed', 'time_left': '02:46:40'}]\n"
     ]
    }
   ],
   "source": [
    "url = server_ip+\"/v1/bids/\"  # URL to access the bids data.\n",
    "\n",
    "item_to_filter = int(1) # Specify the item Mary wants to filter. This will be auction id.\n",
    "\n",
    "mary_headers = {'Authorization': 'Bearer '+str(mary_token)}\n",
    "\n",
    "# Access the bids data.\n",
    "mary_response = requests.get(url,headers=mary_headers).json()\n",
    "\n",
    "# Filter the items needed.\n",
    "items_filtered = [itm for itm in mary_response if itm['auction'] is item_to_filter]\n",
    "print('\\nMary can see the items: \\n', auctions_filtered)"
   ]
  }
 ],
 "metadata": {
  "kernelspec": {
   "display_name": "Python 3",
   "language": "python",
   "name": "python3"
  },
  "language_info": {
   "codemirror_mode": {
    "name": "ipython",
    "version": 3
   },
   "file_extension": ".py",
   "mimetype": "text/x-python",
   "name": "python",
   "nbconvert_exporter": "python",
   "pygments_lexer": "ipython3",
   "version": "3.7.4"
  }
 },
 "nbformat": 4,
 "nbformat_minor": 2
}
